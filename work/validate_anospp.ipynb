{
 "cells": [
  {
   "cell_type": "markdown",
   "id": "666a97e4",
   "metadata": {},
   "source": [
    "## Setup"
   ]
  },
  {
   "cell_type": "code",
   "execution_count": 1,
   "id": "76f985d4",
   "metadata": {},
   "outputs": [],
   "source": [
    "%%capture\n",
    "%run validate_partner_manifest_dev.ipynb"
   ]
  },
  {
   "cell_type": "code",
   "execution_count": null,
   "id": "34821bba",
   "metadata": {},
   "outputs": [],
   "source": [
    "def validate_anospp(fn, template_fn='../data/Anopheles_Metadata_Manifest_V4.0_20221220.xlsx', \n",
    "                    verbose=False, version='4.0', samples_sheet='TAB 2 Metadata Entry',\n",
    "                    contrib_sheet='TAB 1 Contributors'):\n",
    "    '''\n",
    "    ANOSPP partner manifest validation\n",
    "    Validation follows the order of columns order in data entry sheet\n",
    "    '''\n",
    "\n",
    "    setup_logging(verbose=verbose)\n",
    "\n",
    "    logging.info(f'# started validate_anospp_partner_manifest_v.{version}')\n",
    "    logging.warning(f'# manifest {fn}')\n",
    "\n",
    "    # read data\n",
    "    df = get_data(fn, sheet=samples_sheet)\n",
    "    df = remove_trailing_spaces(df)\n",
    "    \n",
    "    # read NCBI taxonomy\n",
    "    ncbi = ete3.NCBITaxa()\n",
    "    \n",
    "    # prepare for validation\n",
    "    template_df = get_data(template_fn, sheet='TAB 2 Metadata Entry')\n",
    "    check_columns(df, template_df)\n",
    "    valid_dict = get_valid_dict(template_fn, validation_sheet='TAB 5 Data Validation - do not ')\n",
    "    contrib_df = validate_contributors(fn, contrib_sheet=contrib_sheet)\n",
    "    \n",
    "    # check columns in order of appearance\n",
    "    \n",
    "    # orange cols\n",
    "    # RACK_OR_PLATE_ID, TUBE_OR_WELL_ID\n",
    "    df = validate_plates_wells(df, contrib_df, 'RACK_OR_PLATE_ID', 'TUBE_OR_WELL_ID')\n",
    "    # check series\n",
    "    df = validate_series(df)\n",
    "    # check blanks\n",
    "    is_blank = check_blanks(df)\n",
    "    if df[~is_blank].shape[0] == 0:\n",
    "        logging.error('no non-blank samples to validate, terminating')\n",
    "        return df\n",
    "    validate_values('PRESERVATIVE_SOLUTION', df, valid_dict)\n",
    "    validate_values('ORGANISM_PART', df, valid_dict, sep='|')\n",
    "    # columns below validated for non-blank samples only\n",
    "    date_coll = validate_date('DATE_OF_COLLECTION', df[~is_blank], na_values=['NOT_COLLECTED',''])\n",
    "    # COLLECTION_COUNTRY, DECIMAL_LATITUDE, DECIMAL_LONGITUDE\n",
    "    validate_country_and_coordinates(df[~is_blank], fn, na_values=[''])\n",
    "    # COLLECTION_LOCATION not checked\n",
    "    validate_values('SAMPLING_LOCATION_SIZE', df[~is_blank], valid_dict)\n",
    "    \n",
    "    # purple cols - validate non-blank samples only\n",
    "    validate_taxonomy(df, ncbi, anospp=True, na_values = [''])\n",
    "    validate_values('SPECIMEN_IDENTITY_RISK', df[~is_blank], valid_dict)\n",
    "    validate_specimen_id_risk(df)\n",
    "    validate_freetext('IDENTIFIED_HOW', df[~is_blank])\n",
    "    validate_values('LIFESTAGE', df[~is_blank], valid_dict)\n",
    "    validate_values('SEX', df[~is_blank], valid_dict, na_values = [''])\n",
    "    validate_time('TIME_OF_COLLECTION', df[~is_blank], na_values=['NOT_COLLECTED',''])\n",
    "    validate_time_period('DURATION_OF_COLLECTION', df[~is_blank], na_values=['NOT_COLLECTED',''])\n",
    "    validate_values('COLLECTION_METHOD', df[~is_blank], valid_dict)\n",
    "    validate_values('OUTDOORS_INDOORS', df[~is_blank], valid_dict)\n",
    "    validate_freetext('DESCRIPTION_OF_COLLECTION_METHOD', df[~is_blank])\n",
    "    validate_freetext('PRESERVATION_APPROACH', df[~is_blank])\n",
    "    \n",
    "    # white cols - validate all samples\n",
    "    validate_values('BLOOD_MEAL', df, valid_dict, na_values=[''])\n",
    "    validate_values('GRAVIDITY', df, valid_dict, na_values=[''])\n",
    "    validate_freetext('HABITAT', df)\n",
    "    date_pres = validate_date('DATE_OF_PRESERVATION', df, na_values=['']) # allow for empty values unlike DATE_OF_COLLECTION\n",
    "    compare_dates(before=date_coll, after=date_pres)\n",
    "    validate_float('ELEVATION', df, na_values=[''])\n",
    "    # WHAT_3_WORDS not checked\n",
    "    validate_freetext('OTHER_ORGANISMS', df)\n",
    "    validate_freetext('BIOASSAYS', df)\n",
    "    validate_freetext('COLLECTOR_SAMPLE_ID', df)\n",
    "    validate_freetext('OTHER_INFORMATION', df)\n",
    "    validate_freetext('MISC_METADATA', df)\n",
    "    validate_freetext('DNA_EXTRACTION_DESCRIPTION', df)\n",
    "    validate_float('DNA_EXTRACT_VOLUME_PROVIDED', df, na_values=[''])\n",
    "    validate_float('DNA_EXTRACT_CONCENTRATION', df, na_values=[''])\n",
    "            \n",
    "    logging.info('# ended started validate_anospp_partner_manifest_v.{}'.format(version))\n",
    "\n",
    "    # TODO yield table ready for STS submission\n",
    "    return df"
   ]
  },
  {
   "cell_type": "code",
   "execution_count": 4,
   "id": "52c6d3f5",
   "metadata": {},
   "outputs": [
    {
     "name": "stderr",
     "output_type": "stream",
     "text": [
      "[INFO] # started validate_anospp_partner_manifest_v.4.0\n",
      "[WARNING] # manifest ../data/Anopheles_Metadata_Manifest_V4.0_20221220.xlsx\n",
      "[INFO] reading data from '../data/Anopheles_Metadata_Manifest_V4.0_20221220.xlsx' sheet 'TAB 3 TEST Metadata Entry'\n",
      "[WARNING] trailing spaces found in column 'COLLECTION_LOCATION', SERIES 3-95. Removing for validation\n",
      "[WARNING] trailing spaces found in column 'PREDICTED_SCIENTIFIC_NAME', SERIES 2-7, 9-95. Removing for validation\n",
      "[WARNING] trailing spaces found in column 'PRESERVATION_APPROACH', SERIES 3-95, 192-288. Removing for validation\n",
      "[WARNING] trailing spaces found in column 'HABITAT', SERIES 2. Removing for validation\n",
      "[INFO] reading data from '../data/Anopheles_Metadata_Manifest_V4.0_20221220.xlsx' sheet 'TAB 2 Metadata Entry'\n",
      "[INFO] checking manifest columns against template\n",
      "[INFO] extracting value validation data from '../data/Anopheles_Metadata_Manifest_V4.0_20221220.xlsx'\n",
      "[INFO] validating contributors in ../data/Anopheles_Metadata_Manifest_V4.0_20221220.xlsx\n",
      "[WARNING] trailing spaces found in column 'FIRST_NAME', SERIES 0-1. Removing for validation\n",
      "[ERROR] duplicated names ['Charles R. Darwin']\n",
      "[ERROR] invalid email addresses ['darwin_darwin.darwin']\n",
      "[ERROR] confirmation lacking for any contributors\n",
      "[INFO] validating RACK_OR_PLATE_ID and TUBE_OR_WELL_ID\n",
      "[WARNING] Found and excluded 482 empty rows based on RACK_OR_PLATE_ID and TUBE_OR_WELL_ID\n",
      "[ERROR] plate names ['sdhfibs'] do not match template \"[A-Z]{4}_[0-9]{3}\"\n",
      "[ERROR] plate name prefixes not recognised for ['DUGA_004', 'sdhfibs']\n",
      "[ERROR] duplicate TUBE_OR_WELL_ID for plate DACH_001: ['A1']\n",
      "[ERROR] in TUBE_OR_WELL_ID for plate DACH_002, wells {'C1', 'B1', 'A1'} are missing, wells set() are excessive\n",
      "[ERROR] in TUBE_OR_WELL_ID for plate DUGA_004, wells {'C7', 'F8', 'E2', 'G12', 'D12', 'A4', 'F9', 'A7', 'D4', 'C5', 'D1', 'D6', 'G5', 'B2', 'H5', 'D9', 'B4', 'C10', 'F7', 'E9', 'C11', 'E1', 'F1', 'G2', 'F5', 'G7', 'G6', 'G10', 'A9', 'A12', 'D7', 'A8', 'F3', 'B12', 'H9', 'A3', 'C4', 'B7', 'D11', 'A10', 'H3', 'E5', 'G8', 'C9', 'H7', 'A1', 'C3', 'G3', 'C12', 'E7', 'C2', 'B10', 'C1', 'G11', 'D8', 'B11', 'H2', 'E12', 'F11', 'B1', 'E4', 'H10', 'B8', 'E8', 'B3', 'F2', 'H11', 'F6', 'E11', 'D3', 'B6', 'E10', 'H1', 'F12', 'D10', 'D5', 'H12', 'A5', 'H6', 'A11', 'G9', 'A6', 'B9', 'C8', 'F4', 'B5', 'E3', 'D2', 'H4', 'A2', 'F10', 'G4', 'C6', 'H8', 'G1', 'E6'} are missing, wells {'B13'} are excessive\n",
      "[ERROR] in TUBE_OR_WELL_ID for plate sdhfibs, wells {'C7', 'F8', 'E2', 'G12', 'D12', 'A4', 'F9', 'A7', 'D4', 'C5', 'D1', 'D6', 'G5', 'B2', 'H5', 'D9', 'B4', 'C10', 'F7', 'E9', 'C11', 'E1', 'F1', 'G2', 'F5', 'G7', 'G6', 'G10', 'A9', 'A12', 'D7', 'A8', 'F3', 'B12', 'H9', 'A3', 'C4', 'B7', 'D11', 'A10', 'H3', 'E5', 'G8', 'C9', 'H7', 'A1', 'C3', 'G3', 'C12', 'E7', 'C2', 'B10', 'G11', 'D8', 'B11', 'H2', 'E12', 'F11', 'B1', 'E4', 'H10', 'B8', 'E8', 'B3', 'F2', 'H11', 'F6', 'E11', 'D3', 'B6', 'E10', 'H1', 'F12', 'D10', 'D5', 'H12', 'A5', 'H6', 'A11', 'G9', 'A6', 'B9', 'C8', 'F4', 'B5', 'E3', 'D2', 'H4', 'A2', 'F10', 'G4', 'C6', 'H8', 'G1', 'E6'} are missing, wells set() are excessive\n",
      "[WARNING] found 288 samples across 5 plates\n",
      "[INFO] validating SERIES\n",
      "[INFO] Checking and excluding blank samples\n",
      "[ERROR] last well H12 is not blank at SERIES 288: in ORGANISM_PART, expected \"NOT_APPLICABLE\", found ['TEST']. These samples will be included in further analysis.\n",
      "[WARNING] 2 blanks located across 5 plates, 286 samples of 288 left for downstream analysis\n",
      "[INFO] validating values in column 'PRESERVATIVE_SOLUTION'\n",
      "[INFO] validating values in column 'ORGANISM_PART'\n",
      "[ERROR] invalid values in 'ORGANISM_PART': {'TEST'}\n",
      "[INFO] validating date column 'DATE_OF_COLLECTION'\n",
      "[INFO] excluding 0 ['NOT_COLLECTED', ''] samples without data in 'DATE_OF_COLLECTION'\n",
      "[ERROR] invalid dates in 'DATE_OF_COLLECTION': ['TEST']\n",
      "[ERROR] future dates in 'DATE_OF_COLLECTION': [Timestamp('2117-08-21 00:00:00')]\n",
      "[INFO] validating country with coordinates\n",
      "[ERROR] no partner location found for coordinates ', '\n",
      "[INFO] validating values in column 'SAMPLING_LOCATION_SIZE'\n",
      "[INFO] validating taxonomy against NCBI\n",
      "[INFO] validating PREDICTED_ORDER_OR_GROUP against NCBI\n",
      "[INFO] validating PREDICTED_FAMILY against NCBI\n",
      "[INFO] validating PREDICTED_GENUS against NCBI\n",
      "[INFO] genus: using only first matching rank for Anopheles (taxid 7164): genus\n",
      "[INFO] validating PREDICTED_SCIENTIFIC_NAME against NCBI\n",
      "[ERROR] species: {'Anopheles test', 'Anopheles stricklandi'} not found in NCBI Taxonomy\n",
      "[ERROR] species: \"Anopheles stricklandi\" found in Harbach list, but not in NCBI Taxonomy\n",
      "[INFO] cannot validate PREDICTED_SCIENTIFIC_NAME for \"Anopheles test\", skipping taxonomy consistency check\n",
      "[INFO] cannot validate PREDICTED_SCIENTIFIC_NAME for \"Anopheles stricklandi\", skipping taxonomy consistency check\n",
      "[INFO] validating values in column 'SPECIMEN_IDENTITY_RISK'\n",
      "[ERROR] invalid values in 'SPECIMEN_IDENTITY_RISK': {''}\n",
      "[INFO] validating SPECIMEN_IDENTITY_RISK\n",
      "[ERROR] SPECIMEN_IDENTITY_RISK should be Y in SERIES 8\n",
      "[INFO] validating freetext chars in IDENTIFIED_HOW\n",
      "[INFO] excluding 95 [''] samples without data in 'IDENTIFIED_HOW'\n",
      "[INFO] found non-standard characters in column IDENTIFIED_HOW, SERIES 6. Regex: \"^[A-z0-9.,\\-_ ]+$\"\n",
      "[INFO] validating values in column 'LIFESTAGE'\n",
      "[ERROR] invalid values in 'LIFESTAGE': {''}\n",
      "[INFO] validating values in column 'SEX'\n",
      "[INFO] excluding 95 [''] samples without data in 'SEX'\n",
      "[INFO] validating time column 'TIME_OF_COLLECTION'\n",
      "[INFO] excluding 191 ['NOT_COLLECTED', ''] samples without data in 'TIME_OF_COLLECTION'\n",
      "[ERROR] invalid times in 'TIME_OF_COLLECTION': ['\"33.00\"']\n",
      "[INFO] validating time period column 'DURATION_OF_COLLECTION'\n",
      "[INFO] excluding 192 ['NOT_COLLECTED', ''] samples without data in 'DURATION_OF_COLLECTION'\n",
      "[ERROR] invalid times in 'DURATION_OF_COLLECTION': ['P1WT1H' 'TEST']\n",
      "[INFO] validating values in column 'COLLECTION_METHOD'\n",
      "[ERROR] invalid values in 'COLLECTION_METHOD': {''}\n",
      "[INFO] validating values in column 'OUTDOORS_INDOORS'\n",
      "[ERROR] invalid values in 'OUTDOORS_INDOORS': {''}\n",
      "[INFO] validating freetext chars in DESCRIPTION_OF_COLLECTION_METHOD\n",
      "[INFO] excluding 96 [''] samples without data in 'DESCRIPTION_OF_COLLECTION_METHOD'\n",
      "[INFO] validating freetext chars in PRESERVATION_APPROACH\n",
      "[INFO] excluding 95 [''] samples without data in 'PRESERVATION_APPROACH'\n",
      "[INFO] found non-standard characters in column PRESERVATION_APPROACH, SERIES 3-95. Regex: \"^[A-z0-9.,\\-_ ]+$\"\n",
      "[INFO] validating values in column 'BLOOD_MEAL'\n",
      "[INFO] excluding 193 [''] samples without data in 'BLOOD_MEAL'\n",
      "[INFO] validating values in column 'GRAVIDITY'\n",
      "[INFO] excluding 193 [''] samples without data in 'GRAVIDITY'\n",
      "[INFO] validating freetext chars in HABITAT\n",
      "[INFO] excluding 96 [''] samples without data in 'HABITAT'\n",
      "[INFO] validating date column 'DATE_OF_PRESERVATION'\n",
      "[INFO] excluding 96 [''] samples without data in 'DATE_OF_PRESERVATION'\n",
      "[INFO] checking that DATE_OF_COLLECTION are earlier than DATE_OF_PRESERVATION\n",
      "[ERROR] DATE_OF_COLLECTION values are later than DATE_OF_PRESERVATION for SERIES 9\n",
      "[INFO] validating numeric format in ELEVATION\n",
      "[INFO] excluding 193 [''] samples without data in 'ELEVATION'\n",
      "[ERROR] found non-numeric value in ELEVATION: \"700m\"\n",
      "[INFO] validating freetext chars in OTHER_ORGANISMS\n",
      "[INFO] excluding 288 [''] samples without data in 'OTHER_ORGANISMS'\n",
      "[INFO] validating freetext chars in BIOASSAYS\n",
      "[INFO] excluding 288 [''] samples without data in 'BIOASSAYS'\n",
      "[INFO] validating freetext chars in COLLECTOR_SAMPLE_ID\n",
      "[INFO] excluding 280 [''] samples without data in 'COLLECTOR_SAMPLE_ID'\n",
      "[INFO] validating freetext chars in OTHER_INFORMATION\n",
      "[INFO] excluding 282 [''] samples without data in 'OTHER_INFORMATION'\n",
      "[INFO] validating freetext chars in MISC_METADATA\n",
      "[INFO] excluding 288 [''] samples without data in 'MISC_METADATA'\n",
      "[INFO] validating freetext chars in DNA_EXTRACTION_DESCRIPTION\n",
      "[INFO] excluding 288 [''] samples without data in 'DNA_EXTRACTION_DESCRIPTION'\n",
      "[INFO] validating numeric format in DNA_EXTRACT_VOLUME_PROVIDED\n",
      "[INFO] excluding 288 [''] samples without data in 'DNA_EXTRACT_VOLUME_PROVIDED'\n",
      "[INFO] validating numeric format in DNA_EXTRACT_CONCENTRATION\n",
      "[INFO] excluding 288 [''] samples without data in 'DNA_EXTRACT_CONCENTRATION'\n"
     ]
    },
    {
     "name": "stderr",
     "output_type": "stream",
     "text": [
      "[INFO] # ended started validate_anospp_partner_manifest_v.4.0\n"
     ]
    }
   ],
   "source": [
    "fn = '../data/Anopheles_Metadata_Manifest_V4.0_20221220.xlsx'\n",
    "template_fn = fn\n",
    "df = validate_anospp(fn, template_fn, verbose=True, samples_sheet='TAB 3 TEST Metadata Entry')"
   ]
  },
  {
   "cell_type": "code",
   "execution_count": 3,
   "id": "50c12fdf",
   "metadata": {},
   "outputs": [
    {
     "ename": "Exception",
     "evalue": "Setup complete",
     "output_type": "error",
     "traceback": [
      "\u001b[0;31m---------------------------------------------------------------------------\u001b[0m",
      "\u001b[0;31mException\u001b[0m                                 Traceback (most recent call last)",
      "\u001b[0;32m/var/folders/g7/vnlptw7d5pb544zsj_bypk44000h93/T/ipykernel_33953/1375769833.py\u001b[0m in \u001b[0;36m<module>\u001b[0;34m\u001b[0m\n\u001b[0;32m----> 1\u001b[0;31m \u001b[0;32mraise\u001b[0m \u001b[0mException\u001b[0m\u001b[0;34m(\u001b[0m\u001b[0;34m'Setup complete'\u001b[0m\u001b[0;34m)\u001b[0m\u001b[0;34m\u001b[0m\u001b[0;34m\u001b[0m\u001b[0m\n\u001b[0m",
      "\u001b[0;31mException\u001b[0m: Setup complete"
     ]
    }
   ],
   "source": [
    "raise Exception('Setup complete')"
   ]
  },
  {
   "cell_type": "markdown",
   "id": "527309bb",
   "metadata": {},
   "source": [
    "## Validation"
   ]
  },
  {
   "cell_type": "code",
   "execution_count": 6,
   "id": "7b19a5ad",
   "metadata": {},
   "outputs": [
    {
     "name": "stderr",
     "output_type": "stream",
     "text": [
      "[WARNING] # manifest ../results/20230628_olaitan/Anopheles_Metadata_Manifest_V4.0_EKUW - 21.06.2023.xlsx\n",
      "[WARNING] extra columns in filled manifest compared to template: {'WATER_PH', 'WATER_TEMPERATURE'}\n",
      "[ERROR] template columns missing from filled manifest: {'MISC_METADATA'}\n",
      "[WARNING] trailing spaces found in column 'EMAIL ADDRESS', SERIES 2. Removing for validation\n",
      "[WARNING] Found and excluded 4416 empty rows based on RACK_OR_PLATE_ID and TUBE_OR_WELL_ID\n",
      "[WARNING] found 192 samples across 2 plates\n",
      "[WARNING] 2 blanks located across 2 plates, 190 samples of 192 left for downstream analysis\n",
      "[ERROR] species: {'An stephensi'} not found in NCBI Taxonomy\n",
      "[ERROR] invalid times in 'DURATION_OF_COLLECTION': ['PT105M' 'PT110M']\n",
      "[ERROR] MISC_METADATA column not found in manifest\n"
     ]
    }
   ],
   "source": [
    "fn = '../results/20230628_olaitan/Anopheles_Metadata_Manifest_V4.0_EKUW - 21.06.2023.xlsx'\n",
    "df = validate_anospp(fn, template_fn, samples_sheet='TAB 2 Metadata Entry')"
   ]
  },
  {
   "cell_type": "code",
   "execution_count": 7,
   "id": "ef9d3afc",
   "metadata": {},
   "outputs": [
    {
     "name": "stderr",
     "output_type": "stream",
     "text": [
      "[WARNING] # manifest ../results/20230628_olaitan/Anopheles_Metadata_Manifest_V4.0_EKUW - 27.06.2023 - historical samples.xlsx\n",
      "[WARNING] extra columns in filled manifest compared to template: {'WATER_PH', 'WATER_TEMPERATURE'}\n",
      "[ERROR] template columns missing from filled manifest: {'MISC_METADATA'}\n",
      "[WARNING] Found and excluded 4608 empty rows based on RACK_OR_PLATE_ID and TUBE_OR_WELL_ID\n",
      "[WARNING] found 0 samples across 0 plates\n",
      "[WARNING] 0 blanks located across 0 plates, 0 samples of 0 left for downstream analysis\n",
      "[ERROR] no non-blank samples to validate, terminating\n"
     ]
    }
   ],
   "source": [
    "fn = '../results/20230628_olaitan/Anopheles_Metadata_Manifest_V4.0_EKUW - 27.06.2023 - historical samples.xlsx'\n",
    "df = validate_anospp(fn, template_fn, samples_sheet='TAB 2 Metadata Entry')"
   ]
  },
  {
   "cell_type": "code",
   "execution_count": null,
   "id": "c8d6ae96",
   "metadata": {},
   "outputs": [],
   "source": []
  }
 ],
 "metadata": {
  "kernelspec": {
   "display_name": "Python 3 (ipykernel)",
   "language": "python",
   "name": "python3"
  },
  "language_info": {
   "codemirror_mode": {
    "name": "ipython",
    "version": 3
   },
   "file_extension": ".py",
   "mimetype": "text/x-python",
   "name": "python",
   "nbconvert_exporter": "python",
   "pygments_lexer": "ipython3",
   "version": "3.7.6"
  }
 },
 "nbformat": 4,
 "nbformat_minor": 5
}
