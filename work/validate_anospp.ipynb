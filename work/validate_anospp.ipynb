{
 "cells": [
  {
   "cell_type": "markdown",
   "id": "666a97e4",
   "metadata": {},
   "source": [
    "## Setup"
   ]
  },
  {
   "cell_type": "code",
   "execution_count": 4,
   "id": "76f985d4",
   "metadata": {},
   "outputs": [],
   "source": [
    "%%capture\n",
    "%run validate_partner_manifest_dev.ipynb"
   ]
  },
  {
   "cell_type": "code",
   "execution_count": 5,
   "id": "52c6d3f5",
   "metadata": {},
   "outputs": [
    {
     "name": "stderr",
     "output_type": "stream",
     "text": [
      "[INFO] # started validate_anospp_partner_manifest_v.4.0\n",
      "[WARNING] # manifest ../data/Anopheles_Metadata_Manifest_V4.0_20220825.xlsx\n",
      "[INFO] reading data from '../data/Anopheles_Metadata_Manifest_V4.0_20220825.xlsx'\n",
      "[WARNING] trailing spaces found in column 'COLLECTION_LOCATION', SERIES [3, 4, 5, 6, 7, 8, 9, 10, 11, 12, 13, 14, 15, 16, 17, 18, 19, 20, 21, 22, 23, 24, 25, 26, 27, 28, 29, 30, 31, 32, 33, 34, 35, 36, 37, 38, 39, 40, 41, 42, 43, 44, 45, 46, 47, 48, 49, 50, 51, 52, 53, 54, 55, 56, 57, 58, 59, 60, 61, 62, 63, 64, 65, 66, 67, 68, 69, 70, 71, 72, 73, 74, 75, 76, 77, 78, 79, 80, 81, 82, 83, 84, 85, 86, 87, 88, 89, 90, 91, 92, 93, 94, 95]. Removing for validation\n",
      "[WARNING] trailing spaces found in column 'PREDICTED_SCIENTIFIC_NAME', SERIES [2, 3, 4, 5, 6, 7, 8, 9, 10, 11, 12, 13, 14, 15, 16, 17, 18, 19, 20, 21, 22, 23, 24, 25, 26, 27, 28, 29, 30, 31, 32, 33, 34, 35, 36, 37, 38, 39, 40, 41, 42, 43, 44, 45, 46, 47, 48, 49, 50, 51, 52, 53, 54, 55, 56, 57, 58, 59, 60, 61, 62, 63, 64, 65, 66, 67, 68, 69, 70, 71, 72, 73, 74, 75, 76, 77, 78, 79, 80, 81, 82, 83, 84, 85, 86, 87, 88, 89, 90, 91, 92, 93, 94, 95]. Removing for validation\n",
      "[WARNING] trailing spaces found in column 'PRESERVATION_APPROACH', SERIES [3, 4, 5, 6, 7, 8, 9, 10, 11, 12, 13, 14, 15, 16, 17, 18, 19, 20, 21, 22, 23, 24, 25, 26, 27, 28, 29, 30, 31, 32, 33, 34, 35, 36, 37, 38, 39, 40, 41, 42, 43, 44, 45, 46, 47, 48, 49, 50, 51, 52, 53, 54, 55, 56, 57, 58, 59, 60, 61, 62, 63, 64, 65, 66, 67, 68, 69, 70, 71, 72, 73, 74, 75, 76, 77, 78, 79, 80, 81, 82, 83, 84, 85, 86, 87, 88, 89, 90, 91, 92, 93, 94, 95, 192, 193, 194, 195, 196, 197, 198, 199, 200, 201, 202, 203, 204, 205, 206, 207, 208, 209, 210, 211, 212, 213, 214, 215, 216, 217, 218, 219, 220, 221, 222, 223, 224, 225, 226, 227, 228, 229, 230, 231, 232, 233, 234, 235, 236, 237, 238, 239, 240, 241, 242, 243, 244, 245, 246, 247, 248, 249, 250, 251, 252, 253, 254, 255, 256, 257, 258, 259, 260, 261, 262, 263, 264, 265, 266, 267, 268, 269, 270, 271, 272, 273, 274, 275, 276, 277, 278, 279, 280, 281, 282, 283, 284, 285, 286, 287, 288]. Removing for validation\n",
      "[WARNING] trailing spaces found in column 'HABITAT', SERIES [2]. Removing for validation\n",
      "[INFO] reading data from '../data/Anopheles_Metadata_Manifest_V4.0_20220825.xlsx'\n",
      "[INFO] checking manifest columns against template\n",
      "[INFO] extracting value validation data from '../data/Anopheles_Metadata_Manifest_V4.0_20220825.xlsx'\n",
      "[INFO] validating SERIES\n",
      "[ERROR] In SERIES, ['770'] are missing, ['771'] are unexpected\n",
      "[INFO] validating RACK_OR_PLATE_ID and TUBE_OR_WELL_ID\n",
      "[ERROR] Found and excluded 482 empty rows based on RACK_OR_PLATE_ID and TUBE_OR_WELL_ID\n",
      "[INFO] found 288 samples across 3 plates\n",
      "[INFO] Checking and excluding blank samples\n",
      "[ERROR] last well H12 is not blank at SERIES [288]: in ORGANISM_PART, expected \"NOT_APPLICABLE\", found ['TEST']. These samples will be included in further analysis.\n",
      "[INFO] Blanks located: 286 samples of 288 left for downstream analysis\n",
      "[INFO] validating values in column 'PRESERVATIVE_SOLUTION'\n",
      "[INFO] excluding 0 [] samples without data in 'PRESERVATIVE_SOLUTION'\n",
      "[INFO] validating values in column 'ORGANISM_PART'\n",
      "[INFO] excluding 0 [] samples without data in 'ORGANISM_PART'\n",
      "[ERROR] invalid values in 'ORGANISM_PART': {'TEST'}\n",
      "[INFO] validating date column 'DATE_OF_COLLECTION'\n",
      "[INFO] excluding 0 ['NOT_COLLECTED', ''] samples without data in 'DATE_OF_COLLECTION'\n",
      "[ERROR] invalid dates in 'DATE_OF_COLLECTION': ['TEST']\n",
      "[ERROR] future dates in 'DATE_OF_COLLECTION': [Timestamp('2117-08-21 00:00:00')]\n",
      "[INFO] validating country with coordinates\n",
      "[INFO] validating values in column 'SAMPLING_LOCATION_SIZE'\n",
      "[INFO] excluding 0 [] samples without data in 'SAMPLING_LOCATION_SIZE'\n",
      "[INFO] validating taxonomy against NCBI\n",
      "[INFO] validating PREDICTED_ORDER_OR_GROUP against NCBI\n",
      "[INFO] validating PREDICTED_FAMILY against NCBI\n",
      "[INFO] validating PREDICTED_GENUS against NCBI\n",
      "[INFO] genus: using only first matching rank for Anopheles (taxid 7164): genus\n",
      "[INFO] validating PREDICTED_SCIENTIFIC_NAME against NCBI\n",
      "[ERROR] species: {'Anopheles test', 'Anopheles stricklandi'} not found in NCBI Taxonomy\n",
      "[ERROR] species: \"Anopheles stricklandi\" found in Harbach list, but not in NCBI Taxonomy\n",
      "[INFO] cannot validate PREDICTED_SCIENTIFIC_NAME for \"Anopheles test\", skipping taxonomy consistency check\n",
      "[INFO] cannot validate PREDICTED_SCIENTIFIC_NAME for \"Anopheles stricklandi\", skipping taxonomy consistency check\n",
      "[INFO] validating values in column 'SPECIMEN_IDENTITY_RISK'\n",
      "[INFO] excluding 0 [] samples without data in 'SPECIMEN_IDENTITY_RISK'\n",
      "[ERROR] invalid values in 'SPECIMEN_IDENTITY_RISK': {''}\n",
      "[INFO] validating values in column 'LIFESTAGE'\n",
      "[INFO] excluding 0 [] samples without data in 'LIFESTAGE'\n",
      "[ERROR] invalid values in 'LIFESTAGE': {''}\n",
      "[INFO] validating values in column 'SEX'\n",
      "[INFO] excluding 0 [] samples without data in 'SEX'\n",
      "[ERROR] invalid values in 'SEX': {''}\n",
      "[INFO] validating time column 'TIME_OF_COLLECTION'\n",
      "[INFO] excluding 191 ['NOT_COLLECTED', ''] samples without data in 'TIME_OF_COLLECTION'\n",
      "[ERROR] invalid times in 'TIME_OF_COLLECTION': ['\"33.00\"']\n",
      "[INFO] validating time period column 'DURATION_OF_COLLECTION'\n",
      "[INFO] excluding 192 ['NOT_COLLECTED', ''] samples without data in 'DURATION_OF_COLLECTION'\n",
      "[ERROR] invalid times in 'DURATION_OF_COLLECTION': ['P1WT1H' 'TEST']\n",
      "[INFO] validating values in column 'COLLECTION_METHOD'\n",
      "[INFO] excluding 0 [] samples without data in 'COLLECTION_METHOD'\n",
      "[ERROR] invalid values in 'COLLECTION_METHOD': {''}\n",
      "[INFO] validating values in column 'OUTDOORS_INDOORS'\n",
      "[INFO] excluding 0 [] samples without data in 'OUTDOORS_INDOORS'\n",
      "[ERROR] invalid values in 'OUTDOORS_INDOORS': {''}\n",
      "[INFO] validating values in column 'BLOOD_MEAL'\n",
      "[INFO] excluding 193 [''] samples without data in 'BLOOD_MEAL'\n",
      "[INFO] validating values in column 'GRAVIDITY'\n",
      "[INFO] excluding 193 [''] samples without data in 'GRAVIDITY'\n",
      "[INFO] validating date column 'DATE_OF_PRESERVATION'\n",
      "[INFO] excluding 96 [''] samples without data in 'DATE_OF_PRESERVATION'\n",
      "[INFO] checking that DATE_OF_COLLECTION are earlier than DATE_OF_PRESERVATION\n",
      "[ERROR] DATE_OF_COLLECTION values are later than DATE_OF_PRESERVATION for SERIES [9]\n",
      "[INFO] validating numeric format in ELEVATION\n",
      "[INFO] excluding 193 [''] samples without data in 'ELEVATION'\n",
      "[INFO] validating numeric format in DNA_EXTRACT_VOLUME_PROVIDED\n",
      "[INFO] excluding 288 [''] samples without data in 'DNA_EXTRACT_VOLUME_PROVIDED'\n",
      "[INFO] validating numeric format in DNA_EXTRACT_CONCENTRATION\n",
      "[INFO] excluding 288 [''] samples without data in 'DNA_EXTRACT_CONCENTRATION'\n",
      "[INFO] # ended started validate_anospp_partner_manifest_v.4.0\n"
     ]
    }
   ],
   "source": [
    "def validate_anospp(fn, template_fn='../data/Anopheles_Metadata_Manifest_V4.0_20220825.xlsx', \n",
    "                    verbose=False, version='4.0', samples_sheet='TAB 2 Metadata Entry'):\n",
    "    '''\n",
    "    ANOSPP partner manifest validation\n",
    "    Validation follows the order of columns order in data entry sheet\n",
    "    '''\n",
    "\n",
    "    setup_logging(verbose=verbose)\n",
    "\n",
    "    logging.info(f'# started validate_anospp_partner_manifest_v.{version}')\n",
    "    logging.warning(f'# manifest {fn}')\n",
    "\n",
    "    # read data\n",
    "    df = get_data(fn, sheet=samples_sheet)\n",
    "    df = remove_trailing_spaces(df)\n",
    "    \n",
    "    # read NCBI taxonomy\n",
    "    ncbi = ete3.NCBITaxa()\n",
    "    \n",
    "    # prepare for validation\n",
    "    template_df = get_data(template_fn, sheet='TAB 2 Metadata Entry')\n",
    "    check_columns(df, template_df)\n",
    "    valid_dict = get_valid_dict(template_fn, validation_sheet='TAB 5 Data Validation - do not ')\n",
    "\n",
    "    # check columns in order of appearance\n",
    "    \n",
    "    # orange cols\n",
    "    # exclude empty series\n",
    "    # SERIES\n",
    "    df = validate_series(df)\n",
    "    # RACK_OR_PLATE_ID, TUBE_OR_WELL_ID\n",
    "    df = validate_plates_wells(df, 'RACK_OR_PLATE_ID', 'TUBE_OR_WELL_ID')\n",
    "    # check and exclude blanks\n",
    "    is_blank = check_blanks(df)\n",
    "    validate_values('PRESERVATIVE_SOLUTION', df, valid_dict)\n",
    "    validate_values('ORGANISM_PART', df, valid_dict, sep='|')\n",
    "    # columns below validated for non-blank samples only\n",
    "    date_coll = validate_date('DATE_OF_COLLECTION', df[~is_blank], na_values=['NOT_COLLECTED',''])\n",
    "    # COLLECTION_COUNTRY, DECIMAL_LATITUDE, DECIMAL_LONGITUDE\n",
    "    validate_country_and_coordinates(df[~is_blank], fn, na_values=[''])\n",
    "    # COLLECTION_LOCATION not checked\n",
    "    validate_values('SAMPLING_LOCATION_SIZE', df[~is_blank], valid_dict)\n",
    "    \n",
    "    # purple cols - validate non-blank samples only\n",
    "    df = validate_taxonomy(df, ncbi, anospp=True, na_values = [''])\n",
    "    validate_values('SPECIMEN_IDENTITY_RISK', df[~is_blank], valid_dict)\n",
    "    # IDENTIFIED_HOW not checked\n",
    "    validate_values('LIFESTAGE', df[~is_blank], valid_dict)\n",
    "    validate_values('SEX', df[~is_blank], valid_dict)\n",
    "    validate_time('TIME_OF_COLLECTION', df[~is_blank], na_values=['NOT_COLLECTED',''])\n",
    "    validate_time_period('DURATION_OF_COLLECTION', df[~is_blank], na_values=['NOT_COLLECTED',''])\n",
    "    validate_values('COLLECTION_METHOD', df[~is_blank], valid_dict)\n",
    "    validate_values('OUTDOORS_INDOORS', df[~is_blank], valid_dict)\n",
    "    # DESCRIPTION_OF_COLLECTION_METHOD not checked\n",
    "    # PRESERVATION_APPROACH not checked\n",
    "    \n",
    "    # white cols - validate all samples\n",
    "    validate_values('BLOOD_MEAL', df, valid_dict, na_values=[''])\n",
    "    validate_values('GRAVIDITY', df, valid_dict, na_values=[''])\n",
    "    # HABITAT not checked\n",
    "    date_pres = validate_date('DATE_OF_PRESERVATION', df, na_values=['']) # allow for empty values unlike DATE_OF_COLLECTION\n",
    "    compare_dates(before=date_coll, after=date_pres)\n",
    "    validate_float('ELEVATION', df, na_values=[''])\n",
    "    # WHAT_3_WORDS not checked\n",
    "    # OTHER_ORGANISMS not checked\n",
    "    # BIOASSAYS not checked\n",
    "    # COLLECTOR_SAMPLE_ID  not checked\n",
    "    # OTHER_INFORMATION  not checked\n",
    "    # MISC_METADATA not checked\n",
    "    # DNA_EXTRACTION_DESCRIPTION not checked\n",
    "    validate_float('DNA_EXTRACT_VOLUME_PROVIDED', df, na_values=[''])\n",
    "    validate_float('DNA_EXTRACT_CONCENTRATION', df, na_values=[''])\n",
    "        \n",
    "    logging.info('# ended started validate_anospp_partner_manifest_v.{}'.format(version))\n",
    "\n",
    "    # TODO yield table ready for STS submission\n",
    "    return df\n",
    "\n",
    "fn = '../data/Anopheles_Metadata_Manifest_V4.0_20220825.xlsx'\n",
    "template_fn = '../data/Anopheles_Metadata_Manifest_V4.0_20220825.xlsx'\n",
    "df = validate_anospp(fn, template_fn, verbose=True, samples_sheet='TAB 3 TEST Metadata Entry')"
   ]
  },
  {
   "cell_type": "code",
   "execution_count": 6,
   "id": "50c12fdf",
   "metadata": {},
   "outputs": [
    {
     "ename": "Exception",
     "evalue": "Setup complete",
     "output_type": "error",
     "traceback": [
      "\u001b[0;31m---------------------------------------------------------------------------\u001b[0m",
      "\u001b[0;31mException\u001b[0m                                 Traceback (most recent call last)",
      "\u001b[0;32m/var/folders/g7/vnlptw7d5pb544zsj_bypk44000h93/T/ipykernel_3064/1375769833.py\u001b[0m in \u001b[0;36m<module>\u001b[0;34m\u001b[0m\n\u001b[0;32m----> 1\u001b[0;31m \u001b[0;32mraise\u001b[0m \u001b[0mException\u001b[0m\u001b[0;34m(\u001b[0m\u001b[0;34m'Setup complete'\u001b[0m\u001b[0;34m)\u001b[0m\u001b[0;34m\u001b[0m\u001b[0;34m\u001b[0m\u001b[0m\n\u001b[0m",
      "\u001b[0;31mException\u001b[0m: Setup complete"
     ]
    }
   ],
   "source": [
    "raise Exception('Setup complete')"
   ]
  },
  {
   "cell_type": "markdown",
   "id": "527309bb",
   "metadata": {},
   "source": [
    "## Validation"
   ]
  },
  {
   "cell_type": "code",
   "execution_count": 8,
   "id": "418da3cc",
   "metadata": {},
   "outputs": [
    {
     "name": "stderr",
     "output_type": "stream",
     "text": [
      "[WARNING] # manifest ../results/20221010_anospp_4_amy_lemonde/Anopheles_Metadata_Manifest_V4.0_MGIVEC_v2.xlsx\n",
      "[ERROR] in TUBE_OR_WELL_ID for plate AYDI_511, wells {'D9', 'E10', 'B6', 'B8', 'D7', 'C9', 'D12', 'E11', 'A7', 'G10', 'C5', 'F7', 'F10', 'H8', 'B10', 'A8', 'H12', 'A9', 'D4', 'B5', 'G5', 'C8', 'C12', 'H11', 'B7', 'H9', 'F11', 'D11', 'A10', 'G4', 'E6', 'G6', 'E9', 'D6', 'F9', 'E8', 'C6', 'B9', 'H6', 'G9', 'F6', 'D5', 'G8', 'A5', 'F12', 'E7', 'H4', 'F5', 'D10', 'B11', 'C10', 'A11', 'A6', 'H7', 'A12', 'G7', 'G12', 'H5', 'H10', 'C7', 'E12', 'B12', 'F4', 'B4', 'E5', 'C11', 'C4', 'G11', 'F8', 'D8', 'E4'} are missing, wells set() are excessive\n",
      "[ERROR] invalid values in 'PRESERVATIVE_SOLUTION': {''}\n",
      "[ERROR] invalid values in 'ORGANISM_PART': {''}\n",
      "[ERROR] invalid values in 'SAMPLING_LOCATION_SIZE': {''}\n",
      "[ERROR] invalid values in 'SPECIMEN_IDENTITY_RISK': {''}\n",
      "[ERROR] invalid values in 'LIFESTAGE': {''}\n",
      "[ERROR] invalid values in 'SEX': {''}\n",
      "[ERROR] invalid values in 'COLLECTION_METHOD': {''}\n",
      "[ERROR] invalid values in 'OUTDOORS_INDOORS': {''}\n",
      "[ERROR] invalid values in 'BLOOD_MEAL': {'NOT_COLLECTED'}\n",
      "[ERROR] invalid values in 'GRAVIDITY': {'NOT_COLLECTED'}\n",
      "[ERROR] found non-numeric value in ELEVATION: \"NOT_COLLECTED\"\n"
     ]
    }
   ],
   "source": [
    "fn = '../results/20221010_anospp_4_amy_lemonde/Anopheles_Metadata_Manifest_V4.0_MGIVEC_v2.xlsx'\n",
    "df = validate_anospp(fn, template_fn, samples_sheet='TAB 2 Metadata Entry')"
   ]
  },
  {
   "cell_type": "code",
   "execution_count": 8,
   "id": "bb347b96",
   "metadata": {},
   "outputs": [
    {
     "name": "stderr",
     "output_type": "stream",
     "text": [
      "[WARNING] # manifest ../results/20221010_anospp_4_amy_lemonde/BEAM_Anopheles_Metadata_Manifest_V4.0.xlsx\n",
      "[WARNING] trailing spaces found in column 'COLLECTION_LOCATION', SERIES [75, 76, 77, 78, 79, 80, 81, 82, 83, 84, 85, 86, 87, 88, 89, 90, 91, 92, 746, 747, 749, 760, 761, 762, 763, 764, 765, 766, 767]. Removing for validation\n",
      "[WARNING] trailing spaces found in column 'DESCRIPTION_OF_COLLECTION_METHOD', SERIES [1, 2, 3, 4, 5, 6, 7, 8, 9, 10, 11, 12, 13, 14, 15, 16, 17, 18, 19, 20, 21, 22, 23, 24, 25, 26, 27, 28, 29, 30, 31, 32, 33, 34, 35, 36, 37, 38, 39, 40, 41, 42, 43, 44, 45, 46, 47, 48, 49, 50, 51, 52, 53, 54, 55, 56, 57, 58, 59, 60, 61, 62, 63, 64, 65, 66, 67, 68, 69, 70, 71, 72, 73, 74, 75, 76, 77, 78, 79, 80, 81, 82, 83, 84, 85, 86, 87, 88, 89, 90, 91, 92, 93, 94, 95, 97, 98, 99, 100, 101, 102, 103, 104, 105, 106, 107, 108, 109, 110, 111, 112, 113, 114, 115, 116, 117, 118, 119, 120, 121, 122, 123, 124, 125, 126, 127, 128, 129, 130, 131, 132, 133, 134, 135, 136, 137, 138, 139, 140, 141, 142, 143, 144, 145, 146, 147, 148, 149, 150, 151, 152, 153, 154, 155, 156, 157, 158, 159, 160, 161, 162, 163, 164, 165, 166, 167, 168, 169, 170, 171, 172, 173, 174, 175, 176, 177, 178, 179, 180, 181, 182, 183, 184, 185, 186, 187, 188, 189, 190, 191, 193, 194, 195, 196, 197, 198, 199, 200, 201, 202, 203, 204, 205, 206, 207, 208, 209, 210, 211, 212, 213, 214, 215, 216, 217, 218, 219, 220, 221, 222, 223, 224, 225, 226, 227, 228, 229, 230, 231, 232, 233, 234, 235, 236, 237, 238, 239, 240, 241, 242, 243, 244, 245, 246, 247, 248, 249, 250, 251, 252, 253, 254, 255, 256, 257, 258, 259, 260, 261, 262, 263, 264, 265, 266, 267, 268, 269, 270, 271, 272, 273, 274, 275, 276, 277, 278, 279, 280, 281, 282, 283, 284, 285, 286, 287, 289, 290, 291, 292, 293, 294, 295, 296, 297, 298, 299, 300, 301, 302, 303, 304, 305, 306, 307, 308, 309, 310, 311, 312, 313, 314, 315, 316, 317, 318, 319, 320, 321, 322, 323, 324, 325, 326, 327, 328, 329, 330, 331, 332, 333, 334, 335, 336, 337, 338, 339, 340, 341, 342, 343, 344, 345, 346, 347, 348, 349, 350, 351, 352, 353, 354, 355, 356, 357, 358, 359, 360, 361, 362, 363, 364, 365, 366, 367, 368, 369, 370, 371, 372, 373, 374, 375, 376, 377, 378, 379, 380, 381, 382, 383, 385, 386, 387, 388, 389, 390, 391, 392, 393, 394, 395, 396, 397, 398, 399, 400, 401, 402, 403, 404, 405, 406, 407, 408, 409, 410, 411, 412, 413, 414, 415, 416, 417, 418, 419, 420, 421, 422, 423, 424, 425, 426, 427, 428, 429, 430, 431, 432, 433, 434, 435, 436, 437, 438, 439, 440, 441, 442, 443, 444, 445, 446, 447, 448, 449, 450, 451, 452, 453, 454, 455, 456, 457, 458, 459, 460, 461, 462, 463, 464, 465, 466, 467, 468, 469, 470, 471, 472, 473, 474, 475, 476, 477, 478, 479, 481, 482, 483, 484, 485, 486, 487, 488, 489, 490, 491, 492, 493, 494, 495, 496, 497, 498, 499, 500, 501, 502, 503, 504, 505, 506, 507, 508, 509, 510, 511, 512, 513, 514, 515, 516, 517, 518, 519, 520, 521, 522, 523, 524, 525, 526, 527, 528, 529, 530, 531, 532, 533, 534, 535, 536, 537, 538, 539, 540, 541, 542, 543, 544, 545, 546, 547, 548, 549, 550, 551, 552, 553, 554, 555, 556, 557, 558, 559, 560, 561, 562, 563, 564, 565, 566, 567, 568, 569, 570, 571, 572, 573, 574, 575, 577, 578, 579, 580, 581, 582, 583, 584, 585, 586, 587, 588, 589, 590, 591, 592, 593, 594, 595, 596, 597, 598, 599, 600, 601, 602, 603, 604, 605, 606, 607, 608, 609, 610, 611, 612, 613, 614, 615, 616, 617, 618, 619, 620, 621, 622, 623, 624, 625, 626, 627, 628, 629, 630, 631, 632, 633, 634, 635, 636, 637, 638, 639, 640, 641, 642, 643, 644, 645, 646, 647, 648, 649, 650, 651, 652, 653, 654, 655, 656, 657, 658, 659, 660, 661, 662, 663, 664, 665, 666, 667, 668, 669, 670, 671, 673, 674, 675, 676, 677, 678, 679, 680, 681, 682, 683, 684, 685, 686, 687, 688, 689, 690, 691, 692, 693, 694, 695, 696, 697, 698, 699, 700, 701, 702, 703, 704, 705, 706, 707, 708, 709, 710, 711, 712, 713, 714, 715, 716, 717, 718, 719, 720, 721, 722, 723, 724, 725, 726, 727, 728, 729, 730, 731, 732, 733, 734, 735, 736, 737, 738, 739, 740, 741, 742, 743, 744, 745, 746, 747, 748, 749, 750, 751, 752, 753, 754, 755, 756, 757, 758, 759, 760, 761, 762, 763, 764, 765, 766, 767, 769, 770, 771, 772, 773, 774, 775, 776, 777, 778, 779, 780, 781, 782, 783, 784, 785, 786, 787, 788, 789, 790, 791, 792, 793, 794, 795, 796, 797, 798, 799, 800, 801, 802, 803, 804, 805, 806, 807, 808, 809, 810, 811, 812, 813, 814, 815, 816, 817, 818, 819, 820, 821, 822, 823, 824, 825, 826, 827, 828, 829, 830, 831, 832, 833, 834, 835, 836, 837, 838, 839, 840, 841, 842, 843, 844, 845, 846, 847, 848, 849, 850, 851, 852, 853, 854, 855, 856, 857, 858, 859, 860, 861, 862, 863]. Removing for validation\n",
      "[ERROR] duplicate SERIES: ['', '']\n",
      "[ERROR] Found and excluded non-numeric SERIES: ['', '', '']\n",
      "[ERROR] In SERIES, ['192', '288', '96'] are missing, ['862', '863', '864'] are unexpected\n",
      "[ERROR] in TUBE_OR_WELL_ID for plate BEAM_001, wells {'H12'} are missing, wells set() are excessive\n",
      "[ERROR] in TUBE_OR_WELL_ID for plate BEAM_002, wells {'H12'} are missing, wells set() are excessive\n",
      "[ERROR] in TUBE_OR_WELL_ID for plate BEAM_003, wells {'H12'} are missing, wells set() are excessive\n",
      "[ERROR] species: {'Anopheles flavicosta', 'Anopheles domicola', 'Anophele funestus'} not found in NCBI Taxonomy\n",
      "[ERROR] species: \"Anopheles flavicosta\" found in Harbach list, but not in NCBI Taxonomy\n",
      "[ERROR] species: \"Anopheles domicola\" found in Harbach list, but not in NCBI Taxonomy\n",
      "[ERROR] invalid dates in 'DATE_OF_PRESERVATION': ['#REF!']\n"
     ]
    }
   ],
   "source": [
    "fn = '../results/20221010_anospp_4_amy_lemonde/BEAM_Anopheles_Metadata_Manifest_V4.0.xlsx'\n",
    "df = validate_anospp(fn, template_fn, samples_sheet='TAB 2 Metadata Entry')"
   ]
  },
  {
   "cell_type": "code",
   "execution_count": null,
   "id": "7b19a5ad",
   "metadata": {},
   "outputs": [],
   "source": []
  }
 ],
 "metadata": {
  "kernelspec": {
   "display_name": "Python 3 (ipykernel)",
   "language": "python",
   "name": "python3"
  },
  "language_info": {
   "codemirror_mode": {
    "name": "ipython",
    "version": 3
   },
   "file_extension": ".py",
   "mimetype": "text/x-python",
   "name": "python",
   "nbconvert_exporter": "python",
   "pygments_lexer": "ipython3",
   "version": "3.7.6"
  }
 },
 "nbformat": 4,
 "nbformat_minor": 5
}
