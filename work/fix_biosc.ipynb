{
 "cells": [
  {
   "cell_type": "code",
   "execution_count": null,
   "id": "049f231a",
   "metadata": {},
   "outputs": [],
   "source": [
    "%run validate_partner_manifest_dev.ipynb"
   ]
  },
  {
   "cell_type": "code",
   "execution_count": null,
   "id": "306337d0",
   "metadata": {},
   "outputs": [],
   "source": [
    "fn = '../results/20241029_bge/BGKU_2024_BIOSCAN_Manifest_V2.0_am60.xlsx'\n",
    "df = get_data(fn, sheet='TAB 2 Metadata Entry')"
   ]
  },
  {
   "cell_type": "code",
   "execution_count": null,
   "id": "099288c4",
   "metadata": {},
   "outputs": [],
   "source": [
    "df = fix_date_formats(df)"
   ]
  },
  {
   "cell_type": "code",
   "execution_count": null,
   "id": "7c2436ea",
   "metadata": {},
   "outputs": [],
   "source": [
    "v = infer_bioscan_version(df)"
   ]
  },
  {
   "cell_type": "code",
   "execution_count": null,
   "id": "e704b5e6",
   "metadata": {},
   "outputs": [],
   "source": [
    "df = validate_series(df)"
   ]
  },
  {
   "cell_type": "code",
   "execution_count": null,
   "id": "14390a88",
   "metadata": {},
   "outputs": [],
   "source": [
    "df = remove_nonbreaking_spaces(df)\n",
    "df = remove_trailing_spaces(df, title='sample')"
   ]
  },
  {
   "cell_type": "code",
   "execution_count": null,
   "id": "1fb63516",
   "metadata": {},
   "outputs": [],
   "source": [
    "template_fn='../data/BIOSCAN_Manifest_V3_20240301.xlsx'\n",
    "template_df = get_data(template_fn, sheet='TAB 2 Metadata Entry')"
   ]
  },
  {
   "cell_type": "code",
   "execution_count": null,
   "id": "adc37c20",
   "metadata": {},
   "outputs": [],
   "source": [
    "check_columns(df, template_df, bioscan_version=v)"
   ]
  },
  {
   "cell_type": "code",
   "execution_count": null,
   "id": "3abff9dd",
   "metadata": {},
   "outputs": [],
   "source": [
    "valid_dict = get_valid_dict(template_fn, validation_sheet='TAB 4 DO NOT EDIT - Data Valida')"
   ]
  },
  {
   "cell_type": "code",
   "execution_count": null,
   "id": "9ff4b9f7",
   "metadata": {},
   "outputs": [],
   "source": [
    "df['CATCH_LOT'] = df['CATCH_LOT'].replace('','NOT_APPLICABLE')\n",
    "validate_regex('CATCH_LOT', df, na_values=[])"
   ]
  },
  {
   "cell_type": "code",
   "execution_count": null,
   "id": "61a4aa37",
   "metadata": {},
   "outputs": [],
   "source": [
    "contrib_sheet='TAB 1 Contributors'\n",
    "contrib_df = validate_contributors(fn, contrib_sheet=contrib_sheet)"
   ]
  },
  {
   "cell_type": "code",
   "execution_count": null,
   "id": "15631787",
   "metadata": {},
   "outputs": [],
   "source": [
    "df['TUBE_OR_WELL_ID'] = df['TUBE_OR_WELL_ID'].apply(lambda x: x[0] + str(int(x[1:])))\n",
    "df['TUBE_OR_WELL_ID'].value_counts()"
   ]
  },
  {
   "cell_type": "code",
   "execution_count": null,
   "id": "610512d4",
   "metadata": {},
   "outputs": [],
   "source": [
    "df, gal, partner_code = validate_plates_wells(\n",
    "        df, contrib_df, 'RACK_OR_PLATE_ID', 'TUBE_OR_WELL_ID', bioscan=True, bioscan_version=v)"
   ]
  },
  {
   "cell_type": "code",
   "execution_count": null,
   "id": "b57ab15c",
   "metadata": {},
   "outputs": [],
   "source": [
    "df['ORGANISM_PART'].replace('', 'NOT_APPLICABLE', inplace=True)"
   ]
  },
  {
   "cell_type": "code",
   "execution_count": null,
   "id": "8c34d73d",
   "metadata": {},
   "outputs": [],
   "source": [
    "df, is_blank = check_blanks(df, bioscan=True)"
   ]
  },
  {
   "cell_type": "code",
   "execution_count": null,
   "id": "f82ae7c3",
   "metadata": {},
   "outputs": [],
   "source": [
    "df.loc[~is_blank, 'OTHER_INFORMATION'] = df['ORGANISM_PART']"
   ]
  },
  {
   "cell_type": "code",
   "execution_count": null,
   "id": "8ee8e00d",
   "metadata": {},
   "outputs": [],
   "source": [
    "df['ORGANISM_PART'] = df['ORGANISM_PART'].str.upper().str.replace(',','|')\n",
    "df['ORGANISM_PART'].replace({\n",
    "    'ENTIRE INDIVIDUAL':'WHOLE_ORGANISM',\n",
    "    'ANTENA':'**OTHER_SOMATIC_ANIMAL_TISSUE**',\n",
    "    'IMAGO LEG':'LEG',\n",
    "    'MARGINAL PIECE':'**OTHER_SOMATIC_ANIMAL_TISSUE**',\n",
    "    'ORGANISM':'WHOLE_ORGANISM',\n",
    "    'EXUVIUM':'**OTHER_SOMATIC_ANIMAL_TISSUE**',\n",
    "    'IMAGO ANTENA':'**OTHER_SOMATIC_ANIMAL_TISSUE**',\n",
    "    'IMAGO':'WHOLE_ORGANISM',\n",
    "    'BODY PART':'**OTHER_SOMATIC_ANIMAL_TISSUE**',\n",
    "    'PUPA':'WHOLE_ORGANISM',\n",
    "    'PART PUPA':'**OTHER_SOMATIC_ANIMAL_TISSUE**',\n",
    "    'LEG| ANTENA':'LEG| **OTHER_SOMATIC_ANIMAL_TISSUE**'\n",
    "}, inplace=True)"
   ]
  },
  {
   "cell_type": "code",
   "execution_count": null,
   "id": "6f8291a4",
   "metadata": {},
   "outputs": [],
   "source": [
    "validate_values('ORGANISM_PART', df, valid_dict, sep='|')"
   ]
  },
  {
   "cell_type": "code",
   "execution_count": null,
   "id": "0593d6e0",
   "metadata": {},
   "outputs": [],
   "source": [
    "validate_values('PRESERVATIVE_SOLUTION', df, valid_dict)"
   ]
  },
  {
   "cell_type": "code",
   "execution_count": null,
   "id": "56f8a0d1",
   "metadata": {},
   "outputs": [],
   "source": [
    "validate_values('BOTTLE_DIRECTION', \n",
    "                    df[~is_blank & (df['COLLECTION_METHOD'] == 'MALAISE_TRAP')], # allow for blank in non-Malaise trap samples\n",
    "                    valid_dict)"
   ]
  },
  {
   "cell_type": "code",
   "execution_count": null,
   "id": "d146be4b",
   "metadata": {},
   "outputs": [],
   "source": [
    "validate_regex('DATE_OF_COLLECTION', df[~is_blank], na_values=['NOT_COLLECTED'])"
   ]
  },
  {
   "cell_type": "code",
   "execution_count": null,
   "id": "4ba7297f",
   "metadata": {},
   "outputs": [],
   "source": [
    "check_catch_lot_dates(df[~is_blank])"
   ]
  },
  {
   "cell_type": "code",
   "execution_count": null,
   "id": "49ce32eb",
   "metadata": {},
   "outputs": [],
   "source": [
    "df['DECIMAL_LATITUDE'] = df['DECIMAL_LATITUDE'].str.rstrip(',')"
   ]
  },
  {
   "cell_type": "code",
   "execution_count": null,
   "id": "f11c2c18",
   "metadata": {},
   "outputs": [],
   "source": [
    "validate_regex('DECIMAL_LATITUDE', df[~is_blank], na_values=[])"
   ]
  },
  {
   "cell_type": "code",
   "execution_count": null,
   "id": "4eeec734",
   "metadata": {},
   "outputs": [],
   "source": [
    "df['DECIMAL_LONGITUDE'] = df['DECIMAL_LONGITUDE'].str.rstrip(',')"
   ]
  },
  {
   "cell_type": "code",
   "execution_count": null,
   "id": "47e4396b",
   "metadata": {},
   "outputs": [],
   "source": [
    "validate_regex('DECIMAL_LONGITUDE', df[~is_blank], na_values=[])"
   ]
  },
  {
   "cell_type": "code",
   "execution_count": null,
   "id": "bac2c168",
   "metadata": {},
   "outputs": [],
   "source": [
    "validate_regex('WHAT_3_WORDS', df[~is_blank], na_values=[''])"
   ]
  },
  {
   "cell_type": "code",
   "execution_count": null,
   "id": "a6222f03",
   "metadata": {},
   "outputs": [],
   "source": [
    "validate_regex('TIME_OF_COLLECTION', df[~is_blank], na_values=['NOT_COLLECTED',''])"
   ]
  },
  {
   "cell_type": "code",
   "execution_count": null,
   "id": "eba6116b",
   "metadata": {},
   "outputs": [],
   "source": [
    "validate_regex('DURATION_OF_COLLECTION', df[~is_blank], na_values=['NOT_COLLECTED',''])"
   ]
  },
  {
   "cell_type": "code",
   "execution_count": null,
   "id": "a1118e76",
   "metadata": {},
   "outputs": [],
   "source": [
    "validate_values('COLLECTION_METHOD', df[~is_blank], valid_dict, na_values=[''])"
   ]
  },
  {
   "cell_type": "code",
   "execution_count": null,
   "id": "6d94b301",
   "metadata": {},
   "outputs": [],
   "source": [
    "validate_regex('DATE_OF_PLATING', df[~is_blank], na_values=['NOT_COLLECTED',''])"
   ]
  },
  {
   "cell_type": "code",
   "execution_count": null,
   "id": "e7d7e222",
   "metadata": {},
   "outputs": [],
   "source": [
    "compare_dates_text('DATE_OF_COLLECTION', 'DATE_OF_PLATING', df[~is_blank])"
   ]
  },
  {
   "cell_type": "code",
   "execution_count": null,
   "id": "9210d1e6",
   "metadata": {},
   "outputs": [],
   "source": [
    "df['PREDICTED_ORDER_OR_GROUP'].replace({\n",
    "    'Neotaenioglossa':'Neotaenioglossa',\n",
    "    'Basommatophora':'Basommatophora',\n",
    "    'Odonáta':'Odonata',\n",
    "    'Oligochaeta gen. sp.':'Oligochaeta'\n",
    "}, inplace=True)\n",
    "df['PREDICTED_FAMILY'].replace({\n",
    "    'none':'',\n",
    "    'fam.':'',\n",
    "    'Glossiphoniidae)':'Glossiphoniidae'\n",
    "}, inplace=True)\n",
    "df['PREDICTED_GENUS'].replace({\n",
    "    'none':'',\n",
    "    'gen.':'',\n",
    "    'genus':''\n",
    "}, inplace=True)\n",
    "df['PREDICTED_SCIENTIFIC_NAME'].replace({\n",
    "    'sp':'',\n",
    "    'sp.':'',\n",
    "}, inplace=True)"
   ]
  },
  {
   "cell_type": "code",
   "execution_count": null,
   "id": "4d0292de",
   "metadata": {},
   "outputs": [],
   "source": [
    "df['PREDICTED_SCIENTIFIC_NAME'] = df['PREDICTED_SCIENTIFIC_NAME'].str.replace('sp ','sp_')"
   ]
  },
  {
   "cell_type": "code",
   "execution_count": null,
   "id": "4e3a8169",
   "metadata": {},
   "outputs": [],
   "source": [
    "df.loc[\n",
    "    (df['PREDICTED_SCIENTIFIC_NAME'] != '') & ~df['PREDICTED_SCIENTIFIC_NAME'].str.contains(' '),\n",
    "    'PREDICTED_SCIENTIFIC_NAME'\n",
    "] = df['PREDICTED_GENUS'] + ' ' + df['PREDICTED_SCIENTIFIC_NAME']\n"
   ]
  },
  {
   "cell_type": "code",
   "execution_count": null,
   "id": "eb9dab13",
   "metadata": {},
   "outputs": [],
   "source": [
    "df = validate_taxonomy(df, ncbi, anospp=False, na_values = [''])"
   ]
  },
  {
   "cell_type": "code",
   "execution_count": null,
   "id": "6408bf17",
   "metadata": {},
   "outputs": [],
   "source": [
    "df['SEX'] = df['SEX'].str.upper()"
   ]
  },
  {
   "cell_type": "code",
   "execution_count": null,
   "id": "8bb2db80",
   "metadata": {},
   "outputs": [],
   "source": [
    "validate_values('SPECIMEN_IDENTITY_RISK', df[~is_blank], valid_dict, na_values=[''])\n",
    "validate_specimen_id_risk(df)\n",
    "validate_values('LIFESTAGE', df[~is_blank], valid_dict, na_values=[''])\n",
    "validate_values('SEX', df[~is_blank], valid_dict, na_values=[''])\n",
    "validate_values('SORTING_SOLUTION_USED', df[~is_blank], valid_dict, na_values=[''])\n",
    "validate_values('CATCH_BOTTLE_TEMPERATURE_STORAGE', df[~is_blank], valid_dict, na_values=[''])\n",
    "validate_values('PLATE_TEMPERATURE_STORAGE', df[~is_blank], valid_dict, na_values=[''])\n",
    "# white cols - validated for all samples\n",
    "validate_freetext('MORPHOSPECIES_DESCRIPTION', df)\n",
    "validate_freetext('DESCRIPTION_OF_COLLECTION_METHOD', df)\n",
    "validate_freetext('HABITAT', df)\n",
    "validate_freetext('PRESERVATION_APPROACH', df)\n",
    "# TODO check if STS will need something here\n",
    "validate_freetext('COLLECTOR_SAMPLE_ID', df)\n",
    "validate_freetext('VOUCHER_ID', df)\n",
    "validate_regex('ELEVATION', df, na_values=[''])\n",
    "validate_freetext('OTHER_INFORMATION', df)\n",
    "# validate_freetext('MISC_METADATA', df)\n"
   ]
  },
  {
   "cell_type": "code",
   "execution_count": null,
   "id": "b7fdc8a7",
   "metadata": {},
   "outputs": [],
   "source": [
    "validate_identifier('IDENTIFIED_BY', df, contrib_df, na_values=[''])"
   ]
  },
  {
   "cell_type": "code",
   "execution_count": null,
   "id": "d1cec8e8",
   "metadata": {},
   "outputs": [],
   "source": [
    "df.to_excel('../results/20241029_bge/BGKU_2024_patched.xlsx', index=False)"
   ]
  },
  {
   "cell_type": "code",
   "execution_count": null,
   "id": "d823de22",
   "metadata": {},
   "outputs": [],
   "source": []
  }
 ],
 "metadata": {
  "kernelspec": {
   "display_name": "Python 3 (ipykernel)",
   "language": "python",
   "name": "python3"
  },
  "language_info": {
   "codemirror_mode": {
    "name": "ipython",
    "version": 3
   },
   "file_extension": ".py",
   "mimetype": "text/x-python",
   "name": "python",
   "nbconvert_exporter": "python",
   "pygments_lexer": "ipython3",
   "version": "3.7.6"
  }
 },
 "nbformat": 4,
 "nbformat_minor": 5
}
