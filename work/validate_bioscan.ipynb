{
 "cells": [
  {
   "cell_type": "code",
   "execution_count": null,
   "id": "2ed8b533",
   "metadata": {},
   "outputs": [],
   "source": [
    "%run validate_partner_manifest_dev.ipynb"
   ]
  },
  {
   "cell_type": "code",
   "execution_count": null,
   "id": "0377d185",
   "metadata": {},
   "outputs": [],
   "source": [
    "def validate_bioscan(fn, template_fn='../data/BIOSCAN_Manifest_V2.0_20230727.xlsx', \n",
    "                     samples_sheet='TAB 2 Metadata Entry', contrib_sheet='TAB 1 Contributors', \n",
    "                     verbose=False, write_sts=True):\n",
    "    '''\n",
    "    BIOSCAN partner manifest validation\n",
    "    Validation follows the order of columns order in data entry sheet\n",
    "    '''\n",
    "\n",
    "    setup_logging(verbose=verbose)\n",
    "\n",
    "    logging.info(f'# partner manifest validation v.{VALIDATION_VERSION}')\n",
    "    logging.info(f'# validating BIOSCAN manifest v.{BIOSCAN_VERSION}')\n",
    "    logging.info(f'# manifest {fn}')\n",
    "\n",
    "    # read data\n",
    "    df = get_data(fn, sheet=samples_sheet)\n",
    "    # check manifest verison\n",
    "    v = infer_bioscan_version(df)\n",
    "    # check series, exclude non-numeric\n",
    "    df = validate_series(df)\n",
    "    # clean up data\n",
    "    df = remove_nonbreaking_spaces(df)\n",
    "    df = remove_trailing_spaces(df)\n",
    "    \n",
    "    # read NCBI taxonomy\n",
    "    ncbi = ete3.NCBITaxa()\n",
    "    \n",
    "    # prepare for validation\n",
    "    template_df = get_data(template_fn, sheet='TAB 2 Metadata Entry')\n",
    "    check_columns(df, template_df)\n",
    "    valid_dict = get_valid_dict(template_fn, validation_sheet='TAB 4 DO NOT EDIT - Data Valida')\n",
    "    contrib_df = validate_contributors(fn, contrib_sheet=contrib_sheet)\n",
    "\n",
    "    # orange cols\n",
    "    validate_regex('CATCH_LOT', df, na_values=[])\n",
    "    df, gal = validate_plates_wells(df, contrib_df, 'RACK_OR_PLATE_ID', 'TUBE_OR_WELL_ID', bioscan=True)\n",
    "    # check and exclude blanks\n",
    "    is_blank = check_blanks(df)\n",
    "    if df[~is_blank].shape[0] == 0:\n",
    "        logging.error('no non-blank samples to validate, terminating')\n",
    "        return df\n",
    "    validate_values('ORGANISM_PART', df, valid_dict, sep='|')\n",
    "    validate_values('PRESERVATIVE_SOLUTION', df, valid_dict)\n",
    "    # columns below validated for non-blank samples only\n",
    "    validate_values('BOTTLE_DIRECTION', df[~is_blank], valid_dict) # TODO allow for blank in non-Malaise trap samples\n",
    "    date_coll = validate_date('DATE_OF_COLLECTION', df[~is_blank], na_values=['NOT_COLLECTED'])\n",
    "    validate_regex('DECIMAL_LATITUDE', df[~is_blank], na_values=[])\n",
    "    validate_regex('DECIMAL_LONGITUDE', df[~is_blank], na_values=[])\n",
    "    # COUNTRY_OF_COLLECTION, DECIMAL_LATITUDE, DECIMAL_LONGITUDE\n",
    "    validate_country_and_coordinates(df[~is_blank], fn, na_values=[''], bioscan=True)\n",
    "    # COLLECTION_LOCATION not checked\n",
    "    \n",
    "    # purple cols - valiated for non-blank samples\n",
    "    validate_regex('WHAT_3_WORDS', df[~is_blank], na_values=[''])\n",
    "    validate_regex('TIME_OF_COLLECTION', df[~is_blank], na_values=['NOT_COLLECTED',''])\n",
    "    validate_regex('DURATION_OF_COLLECTION', df[~is_blank], na_values=['NOT_COLLECTED',''])\n",
    "    validate_values('COLLECTION_METHOD', df[~is_blank], valid_dict)\n",
    "    date_plat = validate_date('DATE_OF_PLATING', df[~is_blank], na_values=['NOT_COLLECTED',''])\n",
    "    compare_dates(before=date_coll, after=date_plat)\n",
    "    # taxonomy validation adds taxid columns to original dataframe - skipping for now\n",
    "    df = validate_taxonomy(df, ncbi, anospp=False, na_values = [''])\n",
    "    validate_values('SPECIMEN_IDENTITY_RISK', df[~is_blank], valid_dict, na_values=[''])\n",
    "    validate_specimen_id_risk(df)\n",
    "    validate_values('LIFESTAGE', df[~is_blank], valid_dict, na_values=[''])\n",
    "    validate_values('SEX', df[~is_blank], valid_dict, na_values=[''])\n",
    "    validate_values('SORTING_SOLUTION_USED', df[~is_blank], valid_dict, na_values=[''])\n",
    "    validate_values('CATCH_BOTTLE_TEMPERATURE_STORAGE', df[~is_blank], valid_dict, na_values=[''])\n",
    "    validate_values('PLATE_TEMPERATURE_STORAGE', df[~is_blank], valid_dict, na_values=[''])\n",
    "    \n",
    "    # white cols - validated for all samples\n",
    "    validate_freetext('MORPHOSPECIES_DESCRIPTION', df)\n",
    "    validate_freetext('DESCRIPTION_OF_COLLECTION_METHOD', df)\n",
    "    validate_freetext('HABITAT', df)\n",
    "    validate_freetext('PRESERVATION_APPROACH', df)\n",
    "    # TODO check if STS will need something here\n",
    "    validate_freetext('COLLECTOR_SAMPLE_ID', df)\n",
    "    validate_freetext('VOUCHER_ID', df)\n",
    "    validate_regex('ELEVATION', df, na_values=[''])\n",
    "    validate_freetext('OTHER_INFORMATION', df)\n",
    "    validate_freetext('MISC_METADATA', df)\n",
    "    # IDENTIFIED_BY not checked\n",
    "    # IDENTIFIER_AFFILIATION not checked\n",
    "    \n",
    "    df = expand_plate_only(df)\n",
    "    df = add_sts_cols(df, contrib_df, gal, v)\n",
    "    if write_sts:\n",
    "        write_sts_manifest(df, fn, VALIDATION_VERSION)\n",
    "        \n",
    "    logging.info('# ended validate_bioscan_partner_manifest_v.{}'.format(BIOSCAN_VERSION))\n",
    "\n",
    "    return df"
   ]
  },
  {
   "cell_type": "code",
   "execution_count": null,
   "id": "230f6339",
   "metadata": {},
   "outputs": [],
   "source": [
    "# fn = '../../results/partner_manifests/IRD-Neandersquito_T222Amplicon_Manifest_V2.0.xlsx'\n",
    "df = validate_bioscan(fn='../data/BIOSCAN_Manifest_V2.0_20230727.xlsx', \n",
    "                      template_fn='../data/BIOSCAN_Manifest_V2.0_20230727.xlsx', \n",
    "                      verbose=False,\n",
    "                      samples_sheet='TAB 5 DO NOT EDIT - TEST Met',\n",
    "                      write_sts=True)"
   ]
  },
  {
   "cell_type": "code",
   "execution_count": null,
   "id": "597705bb",
   "metadata": {},
   "outputs": [],
   "source": [
    "raise Exception('Setup complete')"
   ]
  },
  {
   "cell_type": "markdown",
   "id": "a030e1bb",
   "metadata": {},
   "source": [
    "## Validation"
   ]
  },
  {
   "cell_type": "code",
   "execution_count": null,
   "id": "6b170f12",
   "metadata": {},
   "outputs": [],
   "source": [
    "fn = '../results/20230728_js_batch2/[NENM]_[2307]_BIOSCAN_Manifest_V2.0.xlsx'\n",
    "df = validate_bioscan(fn, samples_sheet='TAB 2 Metadata Entry', contrib_sheet='TAB 1 Contributors', verbose=False)"
   ]
  },
  {
   "cell_type": "code",
   "execution_count": null,
   "id": "0820e7eb",
   "metadata": {},
   "outputs": [],
   "source": [
    "blank_wells = {\n",
    "    'PLATE_ONLY':('H12'), # v2\n",
    "    'PLATE_ONLY_1_BLANK':('H12'), # v3\n",
    "    'PLATE_ONLY_1_BLANK':('G12','H12'), # v3\n",
    "}\n"
   ]
  },
  {
   "cell_type": "code",
   "execution_count": null,
   "id": "bc8349a2",
   "metadata": {},
   "outputs": [],
   "source": [
    "df['TUBE_OR_WELL_ID'].isin(blank_wells.keys()).sum()"
   ]
  },
  {
   "cell_type": "code",
   "execution_count": null,
   "id": "120b09e7",
   "metadata": {},
   "outputs": [],
   "source": []
  }
 ],
 "metadata": {
  "kernelspec": {
   "display_name": "Python 3 (ipykernel)",
   "language": "python",
   "name": "python3"
  },
  "language_info": {
   "codemirror_mode": {
    "name": "ipython",
    "version": 3
   },
   "file_extension": ".py",
   "mimetype": "text/x-python",
   "name": "python",
   "nbconvert_exporter": "python",
   "pygments_lexer": "ipython3",
   "version": "3.7.6"
  }
 },
 "nbformat": 4,
 "nbformat_minor": 5
}
