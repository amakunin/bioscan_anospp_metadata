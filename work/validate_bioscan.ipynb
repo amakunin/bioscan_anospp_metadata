{
 "cells": [
  {
   "cell_type": "code",
   "execution_count": 3,
   "id": "2ed8b533",
   "metadata": {},
   "outputs": [],
   "source": [
    "%%capture\n",
    "%run validate_partner_manifest_dev.ipynb"
   ]
  },
  {
   "cell_type": "code",
   "execution_count": null,
   "id": "230f6339",
   "metadata": {},
   "outputs": [],
   "source": [
    "def validate_bioscan(fn, template_fn, verbose=False, version='1.0'):\n",
    "    '''\n",
    "    Validation follows the order of columns order in data entry sheet\n",
    "    '''\n",
    "\n",
    "    setup_logging(verbose=verbose)\n",
    "\n",
    "    logging.info(f'# started validate_partner_manifest_v.{version}')\n",
    "    logging.warning(f'# manifest {fn}')\n",
    "\n",
    "    # read data\n",
    "    df = get_data(fn)\n",
    "    \n",
    "    # read NCBI taxonomy\n",
    "    ncbi = ete3.NCBITaxa()\n",
    "    \n",
    "    # prepare for validation\n",
    "    template_df = get_data(template_fn)\n",
    "    check_columns(df, template_df)\n",
    "    valid_dict = get_valid_dict(template_fn)\n",
    "\n",
    "    # orange cols\n",
    "    # exclude empty series\n",
    "    df = validate_series(df)\n",
    "    df = validate_plates_wells(df, 'RACK_OR_PLATE_ID', 'TUBE_OR_WELL_ID')\n",
    "    \n",
    "    # check and exclude blanks\n",
    "    df = check_blanks(df)\n",
    "    \n",
    "    validate_values('PRESERVATIVE_SOLUTION', df, valid_dict)\n",
    "    # CATCH_LOT not checked TODO do not allow missing\n",
    "    validate_values('BOTTLE_DIRECTION', df, valid_dict)\n",
    "    validate_values('ORGANISM_PART', df, valid_dict, sep='|')\n",
    "    validate_values('HAZARD_GROUP', df, valid_dict)\n",
    "    validate_values('REGULATORY_COMPLIANCE', df, valid_dict)\n",
    "    date_coll = validate_date('DATE_OF_COLLECTION', df, na_values=['NOT_COLLECTED'])\n",
    "    check_location(df, fn)\n",
    "    \n",
    "    # purple cols\n",
    "    # taxonomy validation adds a few columns\n",
    "    df = validate_ncbi_taxonomy(df, ncbi, na_values = ['NOT_COLLECTED'])\n",
    "    validate_values('SEX', df, valid_dict)\n",
    "    # HABITAT not checked\n",
    "    validate_time('TIME_OF_COLLECTION', df)\n",
    "    validate_time_period('DURATION_OF_COLLECTION', df, na_values=['NOT_COLLECTED'])\n",
    "    validate_values('COLLECTION_METHOD', df, valid_dict)\n",
    "    # DESCRIPTION_OF_COLLECTION_METHOD not checked\n",
    "    validate_int('TIME_ELAPSED_FROM_COLLECTION_TO_PLATING', df, na_values=[''])\n",
    "    # PHOTOGRAPH_* columns not checked\n",
    "    # VOUCHER_ID not checked\n",
    "    # PRESERVATION_APPROACH not checked - should match DATE_OF_PRESERVATION\n",
    "    date_pres = validate_date('DATE_OF_PRESERVATION', df, na_values=['']) # allow for empty values unlike DATE_OF_COLLECTION\n",
    "    compare_dates(before=date_coll, after=date_pres)\n",
    "    # COLLECTOR_SAMPLE_ID not checked\n",
    "    validate_int('ELEVATION', df, na_values=[''])\n",
    "    # OTHER_INFORMATION\tMISC_METADATA\tIDENTIFIED_BY\tIDENTIFIER_AFFILIATION\tIDENTIFIED_HOW not checked\n",
    "        \n",
    "    logging.info('# ended validate_partner_manifest_v.{}'.format(version))\n",
    "\n",
    "    return df\n",
    "\n",
    "# fn = '../../results/partner_manifests/IRD-Neandersquito_T222Amplicon_Manifest_V2.0.xlsx'\n",
    "df = validate(fn, template_fn, verbose=True)"
   ]
  },
  {
   "cell_type": "code",
   "execution_count": 2,
   "id": "c342af6c",
   "metadata": {},
   "outputs": [
    {
     "name": "stderr",
     "output_type": "stream",
     "text": [
      "[WARNING] # manifest ../results/20220405/NBGW-[20210527]-manifest.xlsx\n",
      "[WARNING] extra columns in filled manifest compared to template: {'PLATE_TEMPERATURE_STORAGE', 'SORTING_SOLUTION_USED', 'CATCH_BOTTLE_TEMPERATURE_STORAGE'}\n"
     ]
    }
   ],
   "source": [
    "df = validate('../results/20220405/NBGW-[20210527]-manifest.xlsx', template_fn, verbose=False)"
   ]
  },
  {
   "cell_type": "code",
   "execution_count": 3,
   "id": "c238872a",
   "metadata": {},
   "outputs": [
    {
     "name": "stderr",
     "output_type": "stream",
     "text": [
      "[WARNING] # manifest ../results/20220405/NBGW-[20210805]-manifest.xlsx\n",
      "[WARNING] extra columns in filled manifest compared to template: {'PLATE_TEMPERATURE_STORAGE', 'SORTING_SOLUTION_USED', 'CATCH_BOTTLE_TEMPERATURE_STORAGE'}\n",
      "[WARNING] ORDER: found unexpected rank for Acari (taxid 6933): subclass\n",
      "[WARNING] ORDER: found unexpected rank for Collembola (taxid 30001): class\n",
      "[ERROR] FAMILY: unexpected case for \"NOT_APPLICABLE\", changing to \"Not_applicable\" for validation\n",
      "[ERROR] FAMILY: {'Not_applicable'} not found in NCBI Taxonomy\n",
      "[ERROR] GENUS: unexpected case for \"NOT_APPLICABLE\", changing to \"Not_applicable\" for validation\n",
      "[ERROR] GENUS: {'Not_applicable'} not found in NCBI Taxonomy\n"
     ]
    }
   ],
   "source": [
    "df = validate('../results/20220405/NBGW-[20210805]-manifest.xlsx', template_fn, verbose=False)"
   ]
  },
  {
   "cell_type": "code",
   "execution_count": 4,
   "id": "f441b0df",
   "metadata": {},
   "outputs": [
    {
     "name": "stderr",
     "output_type": "stream",
     "text": [
      "[WARNING] # manifest ../results/20220405/NBGW-[20210903]-manifest.xlsx\n",
      "[WARNING] extra columns in filled manifest compared to template: {'PLATE_TEMPERATURE_STORAGE', 'SORTING_SOLUTION_USED', 'CATCH_BOTTLE_TEMPERATURE_STORAGE'}\n",
      "[ERROR] ORDER: {'Opilones'} not found in NCBI Taxonomy\n"
     ]
    }
   ],
   "source": [
    "df = validate('../results/20220405/NBGW-[20210903]-manifest.xlsx', template_fn, verbose=False)"
   ]
  },
  {
   "cell_type": "code",
   "execution_count": 5,
   "id": "9524459e",
   "metadata": {},
   "outputs": [
    {
     "name": "stderr",
     "output_type": "stream",
     "text": [
      "[WARNING] # manifest ../results/20220405/NBGW-[20210930]-manifest.xlsx\n",
      "[WARNING] extra columns in filled manifest compared to template: {'PLATE_TEMPERATURE_STORAGE', 'SORTING_SOLUTION_USED', 'CATCH_BOTTLE_TEMPERATURE_STORAGE'}\n"
     ]
    }
   ],
   "source": [
    "df = validate('../results/20220405/NBGW-[20210930]-manifest.xlsx', template_fn, verbose=False)"
   ]
  },
  {
   "cell_type": "code",
   "execution_count": 6,
   "id": "fdff8970",
   "metadata": {},
   "outputs": [
    {
     "name": "stderr",
     "output_type": "stream",
     "text": [
      "[WARNING] # manifest ../results/20220405/NBGW-[20211026]-manifest.xlsx\n",
      "[WARNING] extra columns in filled manifest compared to template: {'PLATE_TEMPERATURE_STORAGE', 'SORTING_SOLUTION_USED', 'CATCH_BOTTLE_TEMPERATURE_STORAGE'}\n",
      "[ERROR] found non-integer value in TIME_ELAPSED_FROM_COLLECTION_TO_PLATING: \"0.5\"\n"
     ]
    }
   ],
   "source": [
    "df = validate('../results/20220405/NBGW-[20211026]-manifest.xlsx', template_fn, verbose=False)"
   ]
  },
  {
   "cell_type": "code",
   "execution_count": 7,
   "id": "962321eb",
   "metadata": {},
   "outputs": [
    {
     "name": "stderr",
     "output_type": "stream",
     "text": [
      "[WARNING] # manifest ../results/20220405/NBGW-[20211130]-manifest.xlsx\n",
      "[WARNING] extra columns in filled manifest compared to template: {'PLATE_TEMPERATURE_STORAGE', 'SORTING_SOLUTION_USED', 'CATCH_BOTTLE_TEMPERATURE_STORAGE'}\n"
     ]
    }
   ],
   "source": [
    "df = validate('../results/20220405/NBGW-[20211130]-manifest.xlsx', template_fn, verbose=False)"
   ]
  },
  {
   "cell_type": "code",
   "execution_count": 8,
   "id": "940b497d",
   "metadata": {},
   "outputs": [
    {
     "name": "stderr",
     "output_type": "stream",
     "text": [
      "[WARNING] # manifest ../results/20220405/NBGW-[20220105]-manifest.xlsx\n",
      "[WARNING] extra columns in filled manifest compared to template: {'PLATE_TEMPERATURE_STORAGE', 'SORTING_SOLUTION_USED', 'CATCH_BOTTLE_TEMPERATURE_STORAGE'}\n",
      "[WARNING] ORDER: found unexpected rank for Collembola (taxid 30001): class\n"
     ]
    }
   ],
   "source": [
    "df = validate('../results/20220405/NBGW-[20220105]-manifest.xlsx', template_fn, verbose=False)"
   ]
  },
  {
   "cell_type": "code",
   "execution_count": 9,
   "id": "3c0658fc",
   "metadata": {},
   "outputs": [
    {
     "name": "stderr",
     "output_type": "stream",
     "text": [
      "[WARNING] # manifest ../results/20220405/NBGW-[20220201]-manifest.xlsx\n",
      "[WARNING] extra columns in filled manifest compared to template: {'PLATE_TEMPERATURE_STORAGE', 'SORTING_SOLUTION_USED', 'CATCH_BOTTLE_TEMPERATURE_STORAGE'}\n"
     ]
    }
   ],
   "source": [
    "df = validate('../results/20220405/NBGW-[20220201]-manifest.xlsx', template_fn, verbose=False)"
   ]
  },
  {
   "cell_type": "code",
   "execution_count": 11,
   "id": "f38deb80",
   "metadata": {},
   "outputs": [
    {
     "name": "stderr",
     "output_type": "stream",
     "text": [
      "[WARNING] # manifest ../results/20220405/NHM-BIOSCAN-Manifest_05042022.xlsx\n",
      "[WARNING] trailing spaces found in column 'FAMILY', SERIES [396]. Removing for validation\n",
      "[WARNING] trailing spaces found in column 'GENUS', SERIES [294, 295, 394, 395, 397, 398, 409, 410, 411, 412, 635, 636, 639]. Removing for validation\n",
      "[WARNING] trailing spaces found in column 'SCIENTIFIC_NAME', SERIES [294, 295]. Removing for validation\n",
      "[WARNING] extra columns in filled manifest compared to template: {'BAITED_TRAPS', 'Other/best taxon ID', 'PLATE_TEMPERATURE_STORAGE', 'CATCH_BOTTLE_TEMPERATURE_STORAGE', 'SORTING_SOLUTION_USED'}\n",
      "[ERROR] template columns missing from filled manifest: {'MISC_METADATA'}\n",
      "[ERROR] for blanks, ORGANISM_PART expected to be BLANK_SAMPLE, found {'NOT_APPLICABLE'}\n",
      "[WARNING] for blanks, NOT_APPLICABLE expected, but not found in columns ['CATCH_LOT', 'BOTTLE_DIRECTION', 'HAZARD_GROUP', 'REGULATORY_COMPLIANCE', 'DATE_OF_COLLECTION', 'COLLECTION_LOCATION', 'DECIMAL_LATITUDE', 'DECIMAL_LONGITUDE', 'WHAT_3_WORDS']\n",
      "[ERROR] ORDER: unexpected case for \"NOT_APPLICABLE\", changing to \"Not_applicable\" for validation\n",
      "[ERROR] ORDER: {'Not_applicable'} not found in NCBI Taxonomy\n",
      "[WARNING] ORDER: found unexpected rank for Acari (taxid 6933): subclass\n",
      "[WARNING] ORDER: found unexpected rank for Arachnida (taxid 6854): class\n",
      "[WARNING] ORDER: found unexpected rank for Collembola (taxid 30001): class\n",
      "[ERROR] invalid times in 'DURATION_OF_COLLECTION': ['P3D' 'P6D' 'P1D' 'P7D']\n",
      "[ERROR] invalid dates in 'DATE_OF_PRESERVATION': ['NOT_APPLICABLE']\n"
     ]
    }
   ],
   "source": [
    "df = validate('../results/20220405/NHM-BIOSCAN-Manifest_05042022.xlsx', template_fn, verbose=False)"
   ]
  },
  {
   "cell_type": "code",
   "execution_count": null,
   "id": "597705bb",
   "metadata": {},
   "outputs": [],
   "source": []
  }
 ],
 "metadata": {
  "kernelspec": {
   "display_name": "Python 3 (ipykernel)",
   "language": "python",
   "name": "python3"
  },
  "language_info": {
   "codemirror_mode": {
    "name": "ipython",
    "version": 3
   },
   "file_extension": ".py",
   "mimetype": "text/x-python",
   "name": "python",
   "nbconvert_exporter": "python",
   "pygments_lexer": "ipython3",
   "version": "3.7.6"
  }
 },
 "nbformat": 4,
 "nbformat_minor": 5
}
